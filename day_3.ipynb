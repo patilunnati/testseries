{
 "cells": [
  {
   "cell_type": "markdown",
   "metadata": {},
   "source": [
    "# 1.1.\tYou are given with a list of integer elements. Make a new list which will store square of elements of previous list."
   ]
  },
  {
   "cell_type": "code",
   "execution_count": 8,
   "metadata": {},
   "outputs": [
    {
     "name": "stdout",
     "output_type": "stream",
     "text": [
      "enter your no of list:1 2 3 4\n",
      "[1, 4, 9, 16]\n"
     ]
    }
   ],
   "source": [
    "#ls = [1,2,3]\n",
    "ls = list(map(int,input(\"enter your no of list:\").split()))\n",
    "ls_1 =[]\n",
    "for i in ls:\n",
    "    #ls_1.append(i*i)\n",
    "    ls_1.append(i**2)\n",
    "print(ls_1)"
   ]
  },
  {
   "cell_type": "markdown",
   "metadata": {},
   "source": [
    "# 2.\tFrom a list containing ints, strings and floats, make three lists to store them separately. "
   ]
  },
  {
   "cell_type": "code",
   "execution_count": 11,
   "metadata": {},
   "outputs": [
    {
     "name": "stdout",
     "output_type": "stream",
     "text": [
      "[1, 2]\n",
      "['a', 'b', 'c']\n",
      "[1.3, 1.5, 3.3]\n"
     ]
    }
   ],
   "source": [
    "ls = [1, 2,'a','b','c',1.3,1.5,3.3]\n",
    "a =[]\n",
    "b =[]\n",
    "c=[]\n",
    "for i in ls:\n",
    "    if type(i) == int:\n",
    "        a.append(i)\n",
    "    elif type(i) == str:\n",
    "        b.append(i)\n",
    "    elif type(i) == float:\n",
    "        c.append(i)\n",
    "print(a)\n",
    "print(b)\n",
    "print(c)\n",
    "        \n"
   ]
  },
  {
   "cell_type": "markdown",
   "metadata": {},
   "source": [
    "# 3.\tPrint the pattern\n",
    "1\n",
    "1 2 \n",
    "1 2 3\n",
    "1 2 3 4\n",
    "1 2 3 4 5\n"
   ]
  },
  {
   "cell_type": "code",
   "execution_count": 25,
   "metadata": {},
   "outputs": [
    {
     "name": "stdout",
     "output_type": "stream",
     "text": [
      "enter your no of rows :5\n",
      " \n",
      "1  \n",
      "1 2  \n",
      "1 2 3  \n",
      "1 2 3 4  \n",
      "1 2 3 4 5  \n"
     ]
    }
   ],
   "source": [
    "n = int(input(\"enter your no of rows :\"))\n",
    "for i in range(n+1):\n",
    "    for j in range(1,i+1):\n",
    "        print(j,end=\" \")\n",
    "    print(\" \")"
   ]
  },
  {
   "cell_type": "markdown",
   "metadata": {},
   "source": [
    "# 4.\tAccept data in two 3*3  matrix and calculate the sum of the matrices."
   ]
  },
  {
   "cell_type": "code",
   "execution_count": 29,
   "metadata": {},
   "outputs": [
    {
     "name": "stdout",
     "output_type": "stream",
     "text": [
      "[[4, 6, 8], [11, 13, 5], [9, 9, 13]]\n"
     ]
    }
   ],
   "source": [
    "a = [[1,2,3],[3,4,5],[5,6,7]]\n",
    "b = [[3,4,5],[8,9,0],[4,3,6]]\n",
    "c = [[0,0,0],[0,0,0],[0,0,0]]\n",
    "for i in range(len(a)):\n",
    "    for j in range(len(b[0])):\n",
    "        c[i][j] = a[i][j] + b[i][j]\n",
    "print(c)\n",
    "        \n",
    "        \n",
    "        "
   ]
  },
  {
   "cell_type": "code",
   "execution_count": 31,
   "metadata": {},
   "outputs": [
    {
     "name": "stdout",
     "output_type": "stream",
     "text": [
      "[[ 4  6  8]\n",
      " [11 13  5]\n",
      " [ 9  9 13]]\n"
     ]
    }
   ],
   "source": [
    "import numpy as np\n",
    "a = np.array([[1,2,3],[3,4,5],[5,6,7]])\n",
    "b = np.array([[3,4,5],[8,9,0],[4,3,6]])\n",
    "c = np.add(a,b)\n",
    "print(c)"
   ]
  },
  {
   "cell_type": "markdown",
   "metadata": {},
   "source": [
    "# 5.\tWrite a Python program to check whether a given number is a narcissistic number or not\n",
    "For example, 371 is a narcissistic number; it has three digits, and if we cube each digits  33 + 73 + 13 the sum is 371. Other 3-digit narcissistic numbers are\n",
    "153 = 13 + 53 + 33\n"
   ]
  },
  {
   "cell_type": "code",
   "execution_count": 6,
   "metadata": {},
   "outputs": [
    {
     "name": "stdout",
     "output_type": "stream",
     "text": [
      "enter the no :555\n",
      "[5, 5, 5]\n",
      "3\n",
      "375\n",
      "not narcissist\n"
     ]
    }
   ],
   "source": [
    "i = input(\"enter the no :\")\n",
    "no = int(i)\n",
    "num = list(map(int,str(i)))\n",
    "print(num)\n",
    "count = len(num)\n",
    "print(count)\n",
    "sum = 0\n",
    "for i in num:\n",
    "    j = 1\n",
    "    for k in range(count):\n",
    "        j = j * i\n",
    "    sum = sum+j\n",
    "print(sum)\n",
    "if no == sum:\n",
    "    print(\"narcissists\")\n",
    "else:\n",
    "    print(\"not narcissist\")\n",
    "    "
   ]
  },
  {
   "cell_type": "markdown",
   "metadata": {},
   "source": []
  }
 ],
 "metadata": {
  "kernelspec": {
   "display_name": "Python 3",
   "language": "python",
   "name": "python3"
  },
  "language_info": {
   "codemirror_mode": {
    "name": "ipython",
    "version": 3
   },
   "file_extension": ".py",
   "mimetype": "text/x-python",
   "name": "python",
   "nbconvert_exporter": "python",
   "pygments_lexer": "ipython3",
   "version": "3.7.6"
  }
 },
 "nbformat": 4,
 "nbformat_minor": 4
}
