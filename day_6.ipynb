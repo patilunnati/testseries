{
 "cells": [
  {
   "cell_type": "markdown",
   "metadata": {},
   "source": [
    "# 1.\tPython program to Swap Keys and Values in Dictionary."
   ]
  },
  {
   "cell_type": "code",
   "execution_count": 2,
   "metadata": {},
   "outputs": [
    {
     "name": "stdout",
     "output_type": "stream",
     "text": [
      "{1: 'a', 6: 'b', 8: 'e', 9: 'c'}\n"
     ]
    }
   ],
   "source": [
    "dic = {'a':1, 'b':6, 'e':8, 'c':9}\n",
    "dic = {value:key for key,value in dic.items()}\n",
    "print(dic)"
   ]
  },
  {
   "cell_type": "markdown",
   "metadata": {},
   "source": [
    "# 2.\tWrite program to implement Selection sort."
   ]
  },
  {
   "cell_type": "code",
   "execution_count": 14,
   "metadata": {},
   "outputs": [
    {
     "name": "stdout",
     "output_type": "stream",
     "text": [
      "[8, 9, 3, 6, 4, 1, 0, 2]\n",
      "[0, 1, 2, 3, 4, 6, 8, 9]\n"
     ]
    }
   ],
   "source": [
    "ls = [8,9,3,6,4,1,0,2]\n",
    "print(list1)\n",
    "for i in range(len(ls)):\n",
    "    minval = min(ls[i:])\n",
    "    minindex = ls.index(minval)\n",
    "    ls[i],ls[minindex] = ls[minindex],ls[i]\n",
    "print(ls)\n",
    "    "
   ]
  },
  {
   "cell_type": "markdown",
   "metadata": {},
   "source": [
    "# 3.\tWrite program to implement Insertion sort."
   ]
  },
  {
   "cell_type": "code",
   "execution_count": 4,
   "metadata": {},
   "outputs": [
    {
     "name": "stdout",
     "output_type": "stream",
     "text": [
      "[11, 22, 34, 55, 56, 78, 90]\n"
     ]
    }
   ],
   "source": [
    "list = [11,55,22,78,90,56,34]\n",
    "for i in range(1,len(list)):\n",
    "    curruntvalue = list[i]\n",
    "    index=i\n",
    "    while(index>0 and list[index-1]>curruntvalue):\n",
    "        list[index]=list[index-1]\n",
    "        index = index-1\n",
    "    list[index]=curruntvalue\n",
    "print(list)\n",
    "     \n",
    "    \n",
    "    \n"
   ]
  },
  {
   "cell_type": "markdown",
   "metadata": {},
   "source": [
    "# 4.\tGiven a nested list extend it with adding sub list [\"h\", \"i\", \"j\"] in a such a way that it will look like the following list.\n",
    "Given list: list1 = [\"a\", \"b\", [\"c\", [\"d\", \"e\", [\"f\", \"g\"], \"k\"], \"l\"], \"m\",  \"n\"]\n",
    "Sub List to be added = [\"h\", \"i\", \"j\"]\n",
    "Expected output:-\n",
    "['a', 'b', ['c', ['d', 'e', ['f', 'g', 'h', 'i', 'j'], 'k'], 'l'], 'm', 'n']\n"
   ]
  },
  {
   "cell_type": "code",
   "execution_count": 9,
   "metadata": {},
   "outputs": [
    {
     "name": "stdout",
     "output_type": "stream",
     "text": [
      "['a', 'b', ['c', ['d', 'e', ['f', 'g', 'h', 'i', 'j'], 'k'], 'l'], 'm', 'n']\n"
     ]
    }
   ],
   "source": [
    "list1 = [\"a\", \"b\", [\"c\", [\"d\", \"e\", [\"f\", \"g\"], \"k\"], \"l\"], \"m\",  \"n\"]\n",
    "sublist = [\"h\", \"i\", \"j\"]\n",
    "list1[2][1][2].extend(sublist)\n",
    "print(list1)"
   ]
  },
  {
   "cell_type": "markdown",
   "metadata": {},
   "source": [
    "# 5.\tAccess the value of key “history”\n",
    "sampleDict = { \n",
    "   \"class\":{ \n",
    "      \"student\":{ \n",
    "         \"name\":\"Mike\",\n",
    "         \"marks\":{ \n",
    "            \"physics\":70,\n",
    "            \"history\":80\n",
    "         }\n",
    "      }\n",
    "   }\n",
    "}\n",
    "Expected output: 80\n",
    "\n"
   ]
  },
  {
   "cell_type": "code",
   "execution_count": 12,
   "metadata": {},
   "outputs": [
    {
     "name": "stdout",
     "output_type": "stream",
     "text": [
      "{'class': {'student': {'name': 'Mike', 'marks': {'physics': 70, 'history': 80}}}} \n",
      "\n",
      "\n",
      "80\n",
      "70\n",
      "{'physics': 70, 'history': 80}\n"
     ]
    }
   ],
   "source": [
    "sampleDict = { \n",
    "   \"class\":{ \n",
    "      \"student\":{ \n",
    "         \"name\":\"Mike\",\n",
    "         \"marks\":{ \n",
    "            \"physics\":70,\n",
    "            \"history\":80\n",
    "         }\n",
    "      }\n",
    "   }\n",
    "}\n",
    "print(sampleDict,\"\\n\")\n",
    "print()\n",
    "print(sampleDict[\"class\"][\"student\"][\"marks\"][\"history\"])\n",
    "print(sampleDict[\"class\"][\"student\"][\"marks\"][\"physics\"])\n",
    "print(sampleDict[\"class\"][\"student\"][\"marks\"])\n"
   ]
  },
  {
   "cell_type": "code",
   "execution_count": null,
   "metadata": {},
   "outputs": [],
   "source": []
  }
 ],
 "metadata": {
  "kernelspec": {
   "display_name": "Python 3",
   "language": "python",
   "name": "python3"
  },
  "language_info": {
   "codemirror_mode": {
    "name": "ipython",
    "version": 3
   },
   "file_extension": ".py",
   "mimetype": "text/x-python",
   "name": "python",
   "nbconvert_exporter": "python",
   "pygments_lexer": "ipython3",
   "version": "3.7.6"
  }
 },
 "nbformat": 4,
 "nbformat_minor": 4
}
