{
 "cells": [
  {
   "cell_type": "markdown",
   "metadata": {},
   "source": [
    "# \tWrite a program which will find all such numbers which are divisible by 7 but are not a multiple of 5,between 2000 and 3200 (both included).The numbers obtained should be printed in a comma-separated sequence on a single line."
   ]
  },
  {
   "cell_type": "code",
   "execution_count": 4,
   "metadata": {},
   "outputs": [
    {
     "name": "stdout",
     "output_type": "stream",
     "text": [
      "2002,2009,2016,2023,2037,2044,2051,2058,2072,2079,2086,2093,2107,2114,2121,2128,2142,2149,2156,2163,2177,2184,2191,2198,2212,2219,2226,2233,2247,2254,2261,2268,2282,2289,2296,2303,2317,2324,2331,2338,2352,2359,2366,2373,2387,2394,2401,2408,2422,2429,2436,2443,2457,2464,2471,2478,2492,2499,2506,2513,2527,2534,2541,2548,2562,2569,2576,2583,2597,2604,2611,2618,2632,2639,2646,2653,2667,2674,2681,2688,2702,2709,2716,2723,2737,2744,2751,2758,2772,2779,2786,2793,2807,2814,2821,2828,2842,2849,2856,2863,2877,2884,2891,2898,2912,2919,2926,2933,2947,2954,2961,2968,2982,2989,2996,3003,3017,3024,3031,3038,3052,3059,3066,3073,3087,3094,3101,3108,3122,3129,3136,3143,3157,3164,3171,3178,3192,3199,"
     ]
    }
   ],
   "source": [
    "for i in range(2000,3201):\n",
    "    if i % 7==0 and i % 5 !=0:\n",
    "        print(i,end =\",\")\n"
   ]
  },
  {
   "cell_type": "markdown",
   "metadata": {},
   "source": [
    "# \tWith a given integral number n, write a program to generate a dictionary that contains (i, i*i) such that is an integral number between 1 and n (both included). and then the program should print the dictionary.\n",
    "\tSuppose the following input is supplied to the program:\n",
    "\t8\n",
    "\tThen, the output should be:\n",
    "\t{1: 1, 2: 4, 3: 9, 4: 16, 5: 25, 6: 36, 7: 49, 8: 64}\n"
   ]
  },
  {
   "cell_type": "code",
   "execution_count": 26,
   "metadata": {},
   "outputs": [
    {
     "name": "stdout",
     "output_type": "stream",
     "text": [
      "enter your no :8\n",
      "{1: 1, 2: 4, 3: 9, 4: 16, 5: 25, 6: 36, 7: 49, 8: 64}\n"
     ]
    }
   ],
   "source": [
    "dic = dict()\n",
    "y = int(input(\"enter your no :\"))\n",
    "for i in range (1,y+1):\n",
    "    dic[i]= i*i\n",
    "print(dic)\n",
    "    "
   ]
  },
  {
   "cell_type": "markdown",
   "metadata": {},
   "source": [
    "# \tWrite a program that accepts sequence of lines as input and prints the lines after making all characters in the sentence capitalized.\n",
    "\tSuppose the following input is supplied to the program:\n",
    "\tHello world\n",
    "\tPractice makes perfect\n",
    "\tThen, the output should be:\n",
    "\tHELLO WORLD\n",
    "\tPRACTICE MAKES PERFECT\n",
    "\t\n"
   ]
  },
  {
   "cell_type": "code",
   "execution_count": 1,
   "metadata": {},
   "outputs": [
    {
     "name": "stdout",
     "output_type": "stream",
     "text": [
      "Enter the Sentes> hii\n",
      "Enter the Sentes> welcome\n",
      "Enter the Sentes> how r u\n",
      "Enter the Sentes> stop\n",
      "Enter the Sentes> exit\n",
      "HII\n",
      "WELCOME\n",
      "HOW R U\n",
      "STOP\n",
      "\n"
     ]
    }
   ],
   "source": [
    "S_upper = \"\"\n",
    "\n",
    "while True:\n",
    "    s = input(\"Enter the Sentes> \")\n",
    "    if s.lower() != \"exit\":\n",
    "        S_upper += s.upper() + \"\\n\"\n",
    "    else:\n",
    "        print(S_upper)\n",
    "        break\n"
   ]
  },
  {
   "cell_type": "markdown",
   "metadata": {},
   "source": [
    "# Write a program to check wheather number is even or odd using if Else statement…\n",
    "\n"
   ]
  },
  {
   "cell_type": "code",
   "execution_count": 33,
   "metadata": {},
   "outputs": [
    {
     "name": "stdout",
     "output_type": "stream",
     "text": [
      "enter the no :5\n",
      "no is odd\n"
     ]
    }
   ],
   "source": [
    "x = int(input(\"enter the no :\"))\n",
    "if x % 2 == 0:\n",
    "    print(\"no is even\")\n",
    "else:\n",
    "    print(\"no is odd\")"
   ]
  },
  {
   "cell_type": "markdown",
   "metadata": {},
   "source": [
    "# program that grants access only to kids aged between 8-12\n",
    "using  if  else statement\n",
    "Hint::\n",
    "If aged between 8 to 12 then you are allowed… welcome!!\n",
    "Otherwise Sorry not allowed ..Bye!\n"
   ]
  },
  {
   "cell_type": "code",
   "execution_count": 37,
   "metadata": {},
   "outputs": [
    {
     "name": "stdout",
     "output_type": "stream",
     "text": [
      "enter the your age :11\n",
      " you are allowed… welcome!! \n"
     ]
    }
   ],
   "source": [
    "x = int(input(\"enter the your age :\"))\n",
    "if x >= 8 and x <= 12:\n",
    "    print(\" you are allowed… welcome!! \")\n",
    "else:\n",
    "    print(\"Sorry not allowed ..Bye!\")"
   ]
  },
  {
   "cell_type": "code",
   "execution_count": null,
   "metadata": {},
   "outputs": [],
   "source": []
  }
 ],
 "metadata": {
  "kernelspec": {
   "display_name": "Python 3",
   "language": "python",
   "name": "python3"
  },
  "language_info": {
   "codemirror_mode": {
    "name": "ipython",
    "version": 3
   },
   "file_extension": ".py",
   "mimetype": "text/x-python",
   "name": "python",
   "nbconvert_exporter": "python",
   "pygments_lexer": "ipython3",
   "version": "3.7.6"
  }
 },
 "nbformat": 4,
 "nbformat_minor": 4
}
