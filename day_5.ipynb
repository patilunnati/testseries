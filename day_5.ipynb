{
 "cells": [
  {
   "cell_type": "markdown",
   "metadata": {},
   "source": [
    "# 1.\tWrite a Python program to sort a list of elements using the bubble sort                                \n",
    "Algorithm.\n",
    " "
   ]
  },
  {
   "cell_type": "code",
   "execution_count": 1,
   "metadata": {},
   "outputs": [
    {
     "name": "stdout",
     "output_type": "stream",
     "text": [
      "[0, 1, 2, 3, 4, 5, 6, 7, 8, 9]\n"
     ]
    }
   ],
   "source": [
    "def sort(x):\n",
    "    for i in range(len(x)-1,0,-1):\n",
    "        for j in range(i):\n",
    "            if x[j] > x[j+1]:\n",
    "               temp = x[j]\n",
    "               x[j] = x[j+1]\n",
    "               x[j+1] = temp\n",
    "\n",
    "x = [1,3,4,6,2,8,9,5,0,7]\n",
    "sort(x)\n",
    "print(x)"
   ]
  },
  {
   "cell_type": "markdown",
   "metadata": {},
   "source": [
    "# 4.\tWrite a python program to concatenate two lists index-wise.\n",
    "List1 = [“M”,”na”,”i”,”lak”]\n",
    "List2 = [“y”,”me”,”s”,”han”]\n",
    "Expected output:\n",
    "[“My”,”name”,”is”,”lakhan”]\n"
   ]
  },
  {
   "cell_type": "code",
   "execution_count": 2,
   "metadata": {},
   "outputs": [
    {
     "name": "stdout",
     "output_type": "stream",
     "text": [
      "['My', 'name', 'is', 'lakhan']\n"
     ]
    }
   ],
   "source": [
    "list1 = [\"M\",\"na\",\"i\",\"lak\"]\n",
    "list2 = [\"y\",\"me\",\"s\",\"han\"]\n",
    "list=[]\n",
    "for i in range(len(list1)):\n",
    "    list.append(list1[i] + list2[i])\n",
    "print(list)"
   ]
  },
  {
   "cell_type": "markdown",
   "metadata": {},
   "source": [
    "# 5.\tIterate a given list and check if a given element already exists in a       dictionary as a key’s value if not delete it from the list.\n",
    "roll_number = [47, 64, 69, 37, 76, 83, 95, 97]\n",
    "sampledict = {“John”:47,”Peter”:64,”Mahi”:37,”Maria”:76}\n",
    "\n",
    "\n"
   ]
  },
  {
   "cell_type": "code",
   "execution_count": 5,
   "metadata": {},
   "outputs": [
    {
     "name": "stdout",
     "output_type": "stream",
     "text": [
      "[47, 64, 37, 76]\n"
     ]
    }
   ],
   "source": [
    "list1 = [47, 64, 69, 37, 76, 83, 95, 97]\n",
    "dict1 = {\"John\":47,\"Peter\":64,\"Mahi\":37,\"Maria\":76}\n",
    "a = []\n",
    "for x in list1:\n",
    "    if x in dict1.values():\n",
    "        a.append(x)\n",
    "print(a)\n"
   ]
  },
  {
   "cell_type": "markdown",
   "metadata": {},
   "source": [
    "# 2.\tWrite a Python program for sequential search (Linear search)."
   ]
  },
  {
   "cell_type": "code",
   "execution_count": 8,
   "metadata": {},
   "outputs": [
    {
     "name": "stdout",
     "output_type": "stream",
     "text": [
      "1\n"
     ]
    }
   ],
   "source": [
    "def search(arr, x): \n",
    "  \n",
    "    for i in range(len(arr)): \n",
    "  \n",
    "        if arr[i] == x: \n",
    "            return i \n",
    "  \n",
    "    return \"absent\"\n",
    "\n",
    "a = [1,3,4,2,6]\n",
    "\n",
    "print(search(a,3))"
   ]
  },
  {
   "cell_type": "markdown",
   "metadata": {},
   "source": [
    "# 3.\tWrite a Python program for Binary search.\n"
   ]
  },
  {
   "cell_type": "code",
   "execution_count": 2,
   "metadata": {},
   "outputs": [
    {
     "name": "stdout",
     "output_type": "stream",
     "text": [
      "Found 4\n"
     ]
    }
   ],
   "source": [
    "def bsrch(ls,a):\n",
    "    st = 0\n",
    "    ed = len(ls) \n",
    "    mi = (st + ed)//2\n",
    "    ls.sort()\n",
    "    while True:\n",
    "        if a == ls[mi]:\n",
    "            print(\"Found\", mi)\n",
    "            break\n",
    "        elif a > ls[mi]:\n",
    "            st = mi\n",
    "            mi = (mi + st)// 2\n",
    "           \n",
    "        elif a < ls[mi]:\n",
    "            ed = mi\n",
    "            mi = (mi + st) // 2\n",
    "           \n",
    "s = [1,2,4,5,3,9,7,8]\n",
    "bsrch(s, 5)\n",
    "            \n"
   ]
  },
  {
   "cell_type": "code",
   "execution_count": null,
   "metadata": {},
   "outputs": [],
   "source": []
  }
 ],
 "metadata": {
  "kernelspec": {
   "display_name": "Python 3",
   "language": "python",
   "name": "python3"
  },
  "language_info": {
   "codemirror_mode": {
    "name": "ipython",
    "version": 3
   },
   "file_extension": ".py",
   "mimetype": "text/x-python",
   "name": "python",
   "nbconvert_exporter": "python",
   "pygments_lexer": "ipython3",
   "version": "3.7.6"
  }
 },
 "nbformat": 4,
 "nbformat_minor": 4
}
