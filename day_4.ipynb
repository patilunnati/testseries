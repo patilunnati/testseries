{
 "cells": [
  {
   "cell_type": "markdown",
   "metadata": {},
   "source": [
    "# 1.\tWrite a function to find max of three numbers.\n",
    "\n"
   ]
  },
  {
   "cell_type": "code",
   "execution_count": 13,
   "metadata": {},
   "outputs": [
    {
     "name": "stdout",
     "output_type": "stream",
     "text": [
      "6\n"
     ]
    }
   ],
   "source": [
    "def max_f(x,y,z):\n",
    "    if x > y and x > z:\n",
    "        print(x)\n",
    "    elif y > x and y > z:\n",
    "        print(y)\n",
    "    else: \n",
    "        print(z)\n",
    "max_f(4,5,6)"
   ]
  },
  {
   "cell_type": "markdown",
   "metadata": {},
   "source": [
    "# 2.\tWrite a Python program to detect the number of local variables declared in a function."
   ]
  },
  {
   "cell_type": "code",
   "execution_count": 17,
   "metadata": {},
   "outputs": [
    {
     "name": "stdout",
     "output_type": "stream",
     "text": [
      "3\n",
      "1\n"
     ]
    }
   ],
   "source": [
    "def local():\n",
    "    a = \"str\"\n",
    "    b =  12\n",
    "    c = 1.5\n",
    "\n",
    "#def empty():\n",
    "   # a = 0\n",
    "    \n",
    "print(local.__code__.co_nlocals)\n",
    "#print(empty.__code__.co_nlocals)"
   ]
  },
  {
   "cell_type": "markdown",
   "metadata": {},
   "source": [
    "# 3.\tWrite a recursive function to calculate the sum of numbers from 0 to 10\n",
    "Expected output: 55\n"
   ]
  },
  {
   "cell_type": "code",
   "execution_count": 20,
   "metadata": {},
   "outputs": [
    {
     "name": "stdout",
     "output_type": "stream",
     "text": [
      "55\n"
     ]
    }
   ],
   "source": [
    "def recurs(n):\n",
    "    if n != 0:\n",
    "        return n + recurs(n - 1)\n",
    "    else:\n",
    "        return n\n",
    "print(recurs(10))\n",
    "    \n",
    "    "
   ]
  },
  {
   "cell_type": "markdown",
   "metadata": {},
   "source": [
    "# 4.\tCreate a function showStudent() in such a way that it should accept student id, name, and it’s college name  and if the id and college name is missing in function call it should show it as by default id is 1 and college name  is VITA. "
   ]
  },
  {
   "cell_type": "code",
   "execution_count": 31,
   "metadata": {},
   "outputs": [
    {
     "name": "stdout",
     "output_type": "stream",
     "text": [
      "Enter Student Name: unni\n",
      "Enter Student ID: \n",
      "Enter College Name: \n",
      " std id:  1 \n",
      " std name :  unni \n",
      " clg name : vita\n"
     ]
    }
   ],
   "source": [
    "def showstudent(n,i,c):\n",
    "    if i==\"\":\n",
    "        i = 1\n",
    "    if c==\"\":\n",
    "        c = \"vita\"\n",
    "    print(\" std id: \",i,\"\\n std name : \",n,\"\\n clg name :\",c )\n",
    "    \n",
    "name = input(\"Enter Student Name: \")\n",
    "sid = input(\"Enter Student ID: \")\n",
    "clg = str(input(\"Enter College Name: \"))\n",
    "\n",
    "\n",
    "showstudent(name,sid, clg)\n",
    "\n",
    "  \n",
    "  \n",
    "     "
   ]
  },
  {
   "cell_type": "code",
   "execution_count": 32,
   "metadata": {},
   "outputs": [
    {
     "name": "stdout",
     "output_type": "stream",
     "text": [
      "Student name: Edward\n",
      "Student Id: 1 \n",
      "College: Vita\n",
      "************\n",
      "Student name: Tom\n",
      "Student Id: 2 \n",
      "College: cambridge\n"
     ]
    }
   ],
   "source": [
    "def showStudent(n,i=1,c='Vita'):\n",
    "    print(f\"Student name: {n}\\nStudent Id: {i} \\nCollege: {c}\")\n",
    "\n",
    "showStudent('Edward')\n",
    "print(\"************\")\n",
    "showStudent('Tom',2,'cambridge')\n"
   ]
  },
  {
   "cell_type": "markdown",
   "metadata": {},
   "source": [
    "# 5.\tWrite a Python function that takes a list and returns a new list with unique elements of the first list.\n",
    "Sample List : [11,22,22,33,33,33,44,55,55,66]\n",
    "Unique List : [11, 22,33, 44, 55,66]\n"
   ]
  },
  {
   "cell_type": "code",
   "execution_count": 39,
   "metadata": {},
   "outputs": [
    {
     "name": "stdout",
     "output_type": "stream",
     "text": [
      "[11, 22, 33, 44, 55, 66]\n"
     ]
    }
   ],
   "source": [
    "def unique(ls):\n",
    "    lst = set(ls)\n",
    "    lst1 = list(lst)\n",
    "    lst1.sort()\n",
    "    print(lst1)\n",
    "#a = [1,1,1,2,2,3,4,4]\n",
    "b = [11,22,22,33,33,33,44,55,55,66]\n",
    "#unique(a)\n",
    "unique(b)\n"
   ]
  },
  {
   "cell_type": "markdown",
   "metadata": {},
   "source": [
    "# 6.\tWrite a program to obtain the sum of the first and last digit of this number 2 user defined functions\n",
    "1st for first digit\n",
    "2nd for last digit\n",
    "Example:\n",
    " Input:  5424\n",
    "Output: 9\n"
   ]
  },
  {
   "cell_type": "code",
   "execution_count": 6,
   "metadata": {},
   "outputs": [
    {
     "name": "stdout",
     "output_type": "stream",
     "text": [
      "enter the no :1567\n",
      "sum of 1st and last digit : 8\n"
     ]
    }
   ],
   "source": [
    "def num(n):\n",
    "    s = len(n)\n",
    "    fi = int(n[0])\n",
    "    la = int(n[-1])\n",
    "    print(\"sum of 1st and last digit :\",fi + la)\n",
    "\n",
    "a = input(\"enter the no :\")\n",
    "#num(\"123\")\n",
    "num(a)\n",
    "    \n",
    "    "
   ]
  },
  {
   "cell_type": "markdown",
   "metadata": {},
   "source": []
  }
 ],
 "metadata": {
  "kernelspec": {
   "display_name": "Python 3",
   "language": "python",
   "name": "python3"
  },
  "language_info": {
   "codemirror_mode": {
    "name": "ipython",
    "version": 3
   },
   "file_extension": ".py",
   "mimetype": "text/x-python",
   "name": "python",
   "nbconvert_exporter": "python",
   "pygments_lexer": "ipython3",
   "version": "3.7.6"
  }
 },
 "nbformat": 4,
 "nbformat_minor": 4
}
